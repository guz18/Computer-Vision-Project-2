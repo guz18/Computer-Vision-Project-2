{
 "cells": [
  {
   "cell_type": "markdown",
   "id": "incomplete-trial",
   "metadata": {},
   "source": [
    "# Göksu Güz 150180715"
   ]
  },
  {
   "cell_type": "code",
   "execution_count": 1,
   "id": "turkish-regard",
   "metadata": {},
   "outputs": [],
   "source": [
    "import moviepy.video.io.VideoFileClip as mpy\n",
    "import cv2"
   ]
  },
  {
   "cell_type": "code",
   "execution_count": 2,
   "id": "affiliated-wealth",
   "metadata": {},
   "outputs": [],
   "source": [
    "vid = mpy.VideoFileClip('shapes_video.mp4')"
   ]
  },
  {
   "cell_type": "code",
   "execution_count": 3,
   "id": "burning-drunk",
   "metadata": {},
   "outputs": [
    {
     "name": "stdout",
     "output_type": "stream",
     "text": [
      "92\n",
      "25.0\n"
     ]
    }
   ],
   "source": [
    "frame_count = vid.reader.nframes\n",
    "video_fps = vid.fps\n",
    "print(frame_count)\n",
    "print(video_fps)"
   ]
  },
  {
   "cell_type": "code",
   "execution_count": 8,
   "id": "african-paris",
   "metadata": {
    "scrolled": true
   },
   "outputs": [
    {
     "name": "stdout",
     "output_type": "stream",
     "text": [
      "0\n",
      "1\n",
      "2\n",
      "3\n",
      "4\n",
      "5\n",
      "6\n",
      "7\n",
      "8\n",
      "9\n",
      "10\n",
      "11\n",
      "12\n",
      "13\n",
      "14\n",
      "15\n",
      "16\n",
      "17\n",
      "18\n",
      "19\n",
      "20\n",
      "21\n",
      "22\n",
      "23\n",
      "24\n",
      "25\n",
      "26\n",
      "27\n",
      "28\n",
      "29\n",
      "30\n",
      "31\n",
      "32\n",
      "33\n",
      "34\n",
      "35\n",
      "36\n",
      "37\n",
      "38\n",
      "39\n",
      "40\n",
      "41\n",
      "42\n",
      "43\n",
      "44\n",
      "45\n",
      "46\n",
      "47\n",
      "48\n",
      "49\n",
      "50\n",
      "51\n",
      "52\n",
      "53\n",
      "54\n",
      "55\n",
      "56\n",
      "57\n",
      "58\n",
      "59\n",
      "60\n",
      "61\n",
      "62\n",
      "63\n",
      "64\n",
      "65\n",
      "66\n",
      "67\n",
      "68\n",
      "69\n",
      "70\n",
      "71\n",
      "72\n",
      "73\n",
      "74\n",
      "75\n",
      "76\n",
      "77\n",
      "78\n",
      "79\n",
      "80\n",
      "81\n",
      "82\n",
      "83\n",
      "84\n",
      "85\n",
      "86\n",
      "87\n",
      "88\n",
      "89\n",
      "90\n",
      "91\n"
     ]
    }
   ],
   "source": [
    "images_list =[]\n",
    "for t in range(frame_count):\n",
    "    print(t)\n",
    "    frame = vid.get_frame(t*1.0/video_fps)\n",
    "    ig = frame.copy()\n",
    "    x = frame.shape[0]\n",
    "    y = frame.shape[1]\n",
    "    for i in range(x-2):\n",
    "        i+=1\n",
    "        for j in range(y-2):\n",
    "            j+=1\n",
    "            for z in range(3):\n",
    "                array = [\n",
    "                        frame[i-1,j-1,z],\n",
    "                        frame[i-1,j,z],\n",
    "                        frame[i-1,j+1,z],\n",
    "                        frame[i,j-1,z],\n",
    "                        frame[i,j,z],\n",
    "                        frame[i,j+1,z],\n",
    "                        frame[i+1,j-1,z],\n",
    "                        frame[i+1,j,z],\n",
    "                        frame[i+1,j+1,z]\n",
    "                        ]\n",
    "                #print(array)\n",
    "                array.sort()\n",
    "                #print(frame[i,j,z])\n",
    "                #print(array[4])\n",
    "                ig[i,j,z] = array[4]\n",
    "    images_list.append(ig)\n",
    "            \n",
    "            "
   ]
  },
  {
   "cell_type": "code",
   "execution_count": 11,
   "id": "described-federal",
   "metadata": {},
   "outputs": [
    {
     "name": "stderr",
     "output_type": "stream",
     "text": [
      "t:  18%|████████████▍                                                       | 17/93 [00:00<00:00, 158.72it/s, now=None]"
     ]
    },
    {
     "name": "stdout",
     "output_type": "stream",
     "text": [
      "Moviepy - Building video part1_vid.mp4.\n",
      "Moviepy - Writing video part1_vid.mp4\n",
      "\n"
     ]
    },
    {
     "name": "stderr",
     "output_type": "stream",
     "text": [
      "                                                                                                                       \r"
     ]
    },
    {
     "name": "stdout",
     "output_type": "stream",
     "text": [
      "Moviepy - Done !\n",
      "Moviepy - video ready part1_vid.mp4\n"
     ]
    }
   ],
   "source": [
    "import moviepy.editor as moviepy\n",
    "clip = moviepy.ImageSequenceClip(images_list, fps = 25)\n",
    "# I can change the pace\n",
    "clip.write_videofile(\"part1_vid.mp4\", codec=\"libx264\")"
   ]
  }
 ],
 "metadata": {
  "kernelspec": {
   "display_name": "Python 3",
   "language": "python",
   "name": "python3"
  },
  "language_info": {
   "codemirror_mode": {
    "name": "ipython",
    "version": 3
   },
   "file_extension": ".py",
   "mimetype": "text/x-python",
   "name": "python",
   "nbconvert_exporter": "python",
   "pygments_lexer": "ipython3",
   "version": "3.9.0"
  }
 },
 "nbformat": 4,
 "nbformat_minor": 5
}
