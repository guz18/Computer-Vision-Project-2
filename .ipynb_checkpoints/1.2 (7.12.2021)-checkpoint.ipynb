{
 "cells": [
  {
   "cell_type": "markdown",
   "id": "expressed-botswana",
   "metadata": {},
   "source": [
    "# Göksu Güz 150180715\n",
    "\n",
    "#In this part I managed to detect corners and do background subtraction but my program detects more than one point at the corners and sometimes it can detect corners at the edges. Since I don't know how to solve this problem, I brought this question up to here and left it. I also added the codes I ran in the comment line so you can see the points and the background subtracted images I found."
   ]
  },
  {
   "cell_type": "code",
   "execution_count": 96,
   "id": "convertible-catering",
   "metadata": {},
   "outputs": [],
   "source": [
    "import moviepy.video.io.VideoFileClip as mpy\n",
    "import cv2\n",
    "import matplotlib.pyplot as plt\n",
    "import numpy as np\n",
    "import scipy.ndimage as ndimage\n",
    "from scipy.ndimage import gaussian_filter\n",
    "import skimage.exposure\n",
    "import math\n",
    "from PIL import Image, ImageFilter"
   ]
  },
  {
   "cell_type": "code",
   "execution_count": 97,
   "id": "major-absolute",
   "metadata": {},
   "outputs": [
    {
     "name": "stdout",
     "output_type": "stream",
     "text": [
      "94\n",
      "25.0\n"
     ]
    }
   ],
   "source": [
    "vid = mpy.VideoFileClip('part1_vid.mp4')\n",
    "frame_count = vid.reader.nframes\n",
    "video_fps = vid.fps\n",
    "print(frame_count)\n",
    "print(video_fps)"
   ]
  },
  {
   "cell_type": "code",
   "execution_count": 99,
   "id": "infinite-booking",
   "metadata": {},
   "outputs": [],
   "source": [
    "def corners(frame):\n",
    "    dx,dy = np.gradient(frame)\n",
    "\n",
    "    I_xx = dx*dx\n",
    "    I_xy = dx*dy\n",
    "    I_yy = dy*dy\n",
    "\n",
    "\n",
    "    corners = []\n",
    "    min_eigens = []\n",
    "    count = 0\n",
    "    isTrue = False\n",
    "    for i in range(frame.shape[0]):\n",
    "        for j in range(frame.shape[1]):\n",
    "            calc = 35\n",
    "            if((i>1 or j>1)and isTrue == True):\n",
    "                calc = math.sqrt(math.pow(prevj-j,2)+math.pow(previ-i,2))\n",
    "            Ixx_sum = I_xx[i:i+2, j:j+2].sum()\n",
    "            Ixy_sum = I_xy[i:i+2, j:j+2].sum()\n",
    "            Iyy_sum = I_yy[i:i+2, j:j+2].sum()\n",
    "\n",
    "            min_val = 0.5 * ((Ixx_sum+Iyy_sum)-((Ixx_sum-Iyy_sum)**2 + 4*(Ixy_sum)**2)**0.5)\n",
    "            if min_val > 50 and calc > 20:\n",
    "                print(calc)\n",
    "                isTrue = True\n",
    "                previ = i\n",
    "                prevj = j\n",
    "                count+=1\n",
    "                cv2.circle(frame,(j,i),3,(160,160,160),-1)\n",
    "                #print(j,i,count)\n",
    "    #print(\"count \",count)\n",
    "    #cv2.imshow(\"corners\",frame)\n",
    "    #cv2.waitKey(0)"
   ]
  },
  {
   "cell_type": "code",
   "execution_count": 100,
   "id": "brown-iraqi",
   "metadata": {},
   "outputs": [],
   "source": [
    "for t in range(frame_count):\n",
    "    frame = vid.get_frame(t*1.0/video_fps)\n",
    "    frame = cv2.cvtColor(frame, cv2.COLOR_BGR2GRAY)\n",
    "    #cv2.imshow(\"corners\",frame)\n",
    "    #cv2.waitKey(0)\n",
    "    frame = cv2.Canny(frame,100,150)\n",
    "    frame = gaussian_filter(frame, sigma=1)\n",
    "    kernel = np.ones((4,4),np.float32)/16\n",
    "    frame = cv2.filter2D(frame,-1,kernel)\n",
    "    if(t>0):\n",
    "        frame1 = cv2.subtract(frame,exframe)\n",
    "        #plt.imshow(frame1) \n",
    "        #corners(frame1)\n",
    "    exframe = frame"
   ]
  },
  {
   "cell_type": "code",
   "execution_count": null,
   "id": "gothic-princeton",
   "metadata": {},
   "outputs": [],
   "source": []
  }
 ],
 "metadata": {
  "kernelspec": {
   "display_name": "Python 3",
   "language": "python",
   "name": "python3"
  },
  "language_info": {
   "codemirror_mode": {
    "name": "ipython",
    "version": 3
   },
   "file_extension": ".py",
   "mimetype": "text/x-python",
   "name": "python",
   "nbconvert_exporter": "python",
   "pygments_lexer": "ipython3",
   "version": "3.9.0"
  }
 },
 "nbformat": 4,
 "nbformat_minor": 5
}
