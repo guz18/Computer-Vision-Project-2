{
 "cells": [
  {
   "cell_type": "markdown",
   "id": "moved-chapter",
   "metadata": {},
   "source": [
    "# Göksu Güz 150180715"
   ]
  },
  {
   "cell_type": "code",
   "execution_count": 1,
   "id": "damaged-tension",
   "metadata": {},
   "outputs": [],
   "source": [
    "import moviepy.video.io.VideoFileClip as mpy\n",
    "import cv2"
   ]
  },
  {
   "cell_type": "code",
   "execution_count": 3,
   "id": "irish-teacher",
   "metadata": {},
   "outputs": [],
   "source": [
    "vid = mpy.VideoFileClip('shapes_video.mp4')"
   ]
  },
  {
   "cell_type": "code",
   "execution_count": 6,
   "id": "peripheral-indicator",
   "metadata": {},
   "outputs": [
    {
     "name": "stdout",
     "output_type": "stream",
     "text": [
      "92\n",
      "25.0\n"
     ]
    }
   ],
   "source": [
    "frame_count = vid.reader.nframes\n",
    "video_fps = vid.fps\n",
    "print(frame_count)\n",
    "print(video_fps)"
   ]
  },
  {
   "cell_type": "code",
   "execution_count": null,
   "id": "skilled-fetish",
   "metadata": {
    "scrolled": true
   },
   "outputs": [],
   "source": [
    "images_list =[]\n",
    "for i in range(frame_count):\n",
    "    frame = vid.get_frame(i*1.0/video_fps)\n",
    "    ig = frame.copy()\n",
    "    x = frame.shape[0]\n",
    "    y = frame.shape[1]\n",
    "    for i in range(x-2):\n",
    "        i+=1\n",
    "        print(i)\n",
    "        for j in range(y-2):\n",
    "            j+=1\n",
    "            for z in range(3):\n",
    "                array = [\n",
    "                        frame[i-1,j-1,z],\n",
    "                        frame[i-1,j,z],\n",
    "                        frame[i-1,j+1,z],\n",
    "                        frame[i,j-1,z],\n",
    "                        frame[i,j,z],\n",
    "                        frame[i,j+1,z],\n",
    "                        frame[i+1,j-1,z],\n",
    "                        frame[i+1,j,z],\n",
    "                        frame[i+1,j+1,z]\n",
    "                        ]\n",
    "                print(array)\n",
    "                array.sort()\n",
    "                print(frame[i,j,z])\n",
    "                print(array[4])\n",
    "                ig[i,j,z] = array[4]\n",
    "    images_list.append(ig)\n",
    "            \n",
    "            "
   ]
  },
  {
   "cell_type": "code",
   "execution_count": null,
   "id": "novel-karen",
   "metadata": {},
   "outputs": [],
   "source": []
  }
 ],
 "metadata": {
  "kernelspec": {
   "display_name": "Python 3",
   "language": "python",
   "name": "python3"
  },
  "language_info": {
   "codemirror_mode": {
    "name": "ipython",
    "version": 3
   },
   "file_extension": ".py",
   "mimetype": "text/x-python",
   "name": "python",
   "nbconvert_exporter": "python",
   "pygments_lexer": "ipython3",
   "version": "3.9.0"
  }
 },
 "nbformat": 4,
 "nbformat_minor": 5
}
