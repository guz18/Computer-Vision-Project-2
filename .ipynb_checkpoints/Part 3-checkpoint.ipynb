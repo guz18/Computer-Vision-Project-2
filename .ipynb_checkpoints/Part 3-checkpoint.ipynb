{
 "cells": [
  {
   "cell_type": "markdown",
   "id": "supported-pocket",
   "metadata": {},
   "source": [
    "# 150180715 GÖKSU GÜZ"
   ]
  },
  {
   "cell_type": "code",
   "execution_count": 1,
   "id": "varied-sandwich",
   "metadata": {},
   "outputs": [],
   "source": [
    "import pyautogui\n",
    "import time\n",
    "import cv2\n",
    "import numpy as np\n",
    "from matplotlib import pyplot as plt"
   ]
  },
  {
   "cell_type": "code",
   "execution_count": null,
   "id": "announced-cutting",
   "metadata": {
    "scrolled": true
   },
   "outputs": [
    {
     "name": "stdout",
     "output_type": "stream",
     "text": [
      "pass\n",
      "pass\n",
      "hexagon\n",
      "pass\n",
      "square\n",
      "pass\n",
      "star\n",
      "pass\n",
      "pass\n",
      "triangle\n",
      "pass\n",
      "pass\n",
      "star\n",
      "pass\n",
      "square\n",
      "pass\n",
      "triangle\n",
      "pass\n",
      "pass\n",
      "triangle\n",
      "pass\n",
      "square\n",
      "pass\n",
      "square\n",
      "pass\n",
      "pass\n",
      "square\n",
      "pass\n",
      "triangle\n",
      "pass\n",
      "star\n",
      "pass\n",
      "square\n",
      "pass\n",
      "square\n",
      "pass\n",
      "pass\n",
      "star\n",
      "pass\n",
      "pass\n",
      "triangle\n",
      "pass\n",
      "square\n",
      "pass\n",
      "square\n"
     ]
    }
   ],
   "source": [
    "while 1:\n",
    "    isTrue = True\n",
    "    myScreenshot = pyautogui.screenshot( )\n",
    "    myScreenshot.save('test.png')\n",
    "    myScreenshot = cv2.imread('test.png')\n",
    "    myScreenshot = myScreenshot[840:1080,800:1300]\n",
    "    if( myScreenshot[0:229,499].all() == 0 ): \n",
    "        #this is to solve the problem of early detection \n",
    "        #for example one piece of a star looks like a triangle\n",
    "        isTrue = False\n",
    "    #plt.imshow(myScreenshot)\n",
    "    gray_colored = cv2.cvtColor(myScreenshot,cv2.COLOR_BGR2GRAY)\n",
    "    \n",
    "    dst = cv2.cornerHarris(gray_colored,2,3,0.04)\n",
    "    dst = cv2.dilate(dst,None)\n",
    "    ret, dst = cv2.threshold(dst,0.01*dst.max(),255,0)\n",
    "    dst = np.uint8(dst)\n",
    "    ret, labels, stats, centroids = cv2.connectedComponentsWithStats(dst)\n",
    "    criteria = (cv2.TERM_CRITERIA_EPS + cv2.TERM_CRITERIA_MAX_ITER, 100, 0.001)\n",
    "    corners = cv2.cornerSubPix(gray_colored,np.float32(centroids),(5,5),(-1,-1),criteria)\n",
    "    \n",
    "    if(isTrue == False):\n",
    "        print(\"pass\")\n",
    "    elif len(corners)-1 == 3:\n",
    "        pyautogui.keyDown('a')   \n",
    "        print(\"triangle\")\n",
    "    elif len(corners)-1 == 4:\n",
    "        pyautogui.keyDown('s') \n",
    "        print(\"square\")\n",
    "    elif len(corners)-1 == 10:\n",
    "        pyautogui.keyDown('d')\n",
    "        print(\"star\")\n",
    "    elif len(corners)-1 == 6:\n",
    "        pyautogui.keyDown('f')\n",
    "        print(\"hexagon\")\n",
    "    time.sleep(0.001)  \n",
    "    \n",
    "    pyautogui.keyUp('a')\n",
    "    pyautogui.keyUp('s')\n",
    "    pyautogui.keyUp('d')\n",
    "    pyautogui.keyUp('f')\n",
    "    "
   ]
  },
  {
   "cell_type": "code",
   "execution_count": 3,
   "id": "acknowledged-microphone",
   "metadata": {},
   "outputs": [
    {
     "data": {
      "image/png": "[encoded data removed]",
      "text/plain": [
       "<Figure size 432x288 with 1 Axes>"
      ]
     },
     "metadata": {
      "needs_background": "light"
     },
     "output_type": "display_data"
    }
   ],
   "source": [
    "from PIL import Image\n",
    "myImage = Image.open(\"first.jpeg\");\n",
    "plt.imshow(myImage);\n",
    "#Vabank Result"
   ]
  },
  {
   "cell_type": "code",
   "execution_count": null,
   "id": "fixed-medline",
   "metadata": {},
   "outputs": [],
   "source": [
    "myImage2 = Image.open(\"second.jpeg\");\n",
    "plt.imshow(myImage2);\n",
    "#Shame Result"
   ]
  },
  {
   "cell_type": "code",
   "execution_count": null,
   "id": "educated-diving",
   "metadata": {},
   "outputs": [],
   "source": []
  }
 ],
 "metadata": {
  "kernelspec": {
   "display_name": "Python 3",
   "language": "python",
   "name": "python3"
  },
  "language_info": {
   "codemirror_mode": {
    "name": "ipython",
    "version": 3
   },
   "file_extension": ".py",
   "mimetype": "text/x-python",
   "name": "python",
   "nbconvert_exporter": "python",
   "pygments_lexer": "ipython3",
   "version": "3.9.0"
  }
 },
 "nbformat": 4,
 "nbformat_minor": 5
}
