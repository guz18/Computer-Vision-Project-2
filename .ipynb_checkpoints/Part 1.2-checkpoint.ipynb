{
 "cells": [
  {
   "cell_type": "markdown",
   "id": "packed-hostel",
   "metadata": {},
   "source": [
    "# GÖKSU GÜZ 150180715"
   ]
  },
  {
   "cell_type": "code",
   "execution_count": 2,
   "id": "square-tobago",
   "metadata": {},
   "outputs": [],
   "source": [
    "import moviepy.video.io.VideoFileClip as mpy\n",
    "import cv2\n",
    "import matplotlib.pyplot as plt\n",
    "import numpy as np\n",
    "from numpy import linalg\n"
   ]
  },
  {
   "cell_type": "code",
   "execution_count": 3,
   "id": "complete-emperor",
   "metadata": {},
   "outputs": [],
   "source": [
    "vid = mpy.VideoFileClip('part1_vid.mp4')"
   ]
  },
  {
   "cell_type": "code",
   "execution_count": 4,
   "id": "parallel-colorado",
   "metadata": {},
   "outputs": [
    {
     "name": "stdout",
     "output_type": "stream",
     "text": [
      "94\n",
      "25.0\n"
     ]
    }
   ],
   "source": [
    "frame_count = vid.reader.nframes\n",
    "video_fps = vid.fps\n",
    "print(frame_count)\n",
    "print(video_fps)"
   ]
  },
  {
   "cell_type": "code",
   "execution_count": 15,
   "id": "extensive-trunk",
   "metadata": {},
   "outputs": [],
   "source": [
    "import pandas as pd\n",
    "\n",
    "fgbg = cv2.createBackgroundSubtractorMOG2()\n",
    "for t in range(frame_count):\n",
    "    frame = vid.get_frame(t*1.0/video_fps)\n",
    "    frame2 = vid.get_frame((t+1)*1.0/video_fps)\n",
    "    lap = cv2.Laplacian(frame,cv2.CV_64F)\n",
    "    lap = np.uint8(np.absolute(lap))\n",
    "    lap2 = cv2.Laplacian(frame2,cv2.CV_64F)\n",
    "    lap2 = np.uint8(np.absolute(lap2))\n",
    "    new = cv2.subtract(lap2 ,lap)\n",
    "    \n",
    "    #Laplacian kullanmakta bir sikinti var mi sor\n",
    "    #fgmask = fgbg.apply(lap)\n",
    "    #if t == 20:\n",
    "    #    cv2.imshow('fgmask', fgmask)\n",
    "    #    cv2.imshow('frame',lap )\n",
    "    #k = cv2.waitKey(30) & 0xff\n",
    "    #if k == 27:\n",
    "    #    break\n",
    "    "
   ]
  },
  {
   "cell_type": "code",
   "execution_count": null,
   "id": "alternate-google",
   "metadata": {},
   "outputs": [],
   "source": []
  }
 ],
 "metadata": {
  "kernelspec": {
   "display_name": "Python 3",
   "language": "python",
   "name": "python3"
  },
  "language_info": {
   "codemirror_mode": {
    "name": "ipython",
    "version": 3
   },
   "file_extension": ".py",
   "mimetype": "text/x-python",
   "name": "python",
   "nbconvert_exporter": "python",
   "pygments_lexer": "ipython3",
   "version": "3.9.0"
  }
 },
 "nbformat": 4,
 "nbformat_minor": 5
}
